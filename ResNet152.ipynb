{
 "cells": [
  {
   "cell_type": "code",
   "execution_count": 1,
   "id": "23d2dc99",
   "metadata": {},
   "outputs": [],
   "source": [
    "import tensorflow as tf\n",
    "from tensorflow.keras.applications.resnet_v2 import ResNet152V2, preprocess_input\n",
    "from tensorflow.keras.layers import Dense, Flatten\n",
    "from tensorflow.keras.models import Model\n",
    "from tensorflow.keras.optimizers import Adam\n",
    "from tensorflow.keras.preprocessing.image import ImageDataGenerator"
   ]
  },
  {
   "cell_type": "code",
   "execution_count": 2,
   "id": "e67732ab",
   "metadata": {},
   "outputs": [
    {
     "name": "stdout",
     "output_type": "stream",
     "text": [
      "Downloading data from https://storage.googleapis.com/tensorflow/keras-applications/resnet/resnet152v2_weights_tf_dim_ordering_tf_kernels_notop.h5\n",
      "234545216/234545216 [==============================] - 29s 0us/step\n"
     ]
    }
   ],
   "source": [
    "#Define the image dimensions and batch size\n",
    "\n",
    "img_height = 224\n",
    "img_width = 224\n",
    "batch_size = 16\n",
    "\n",
    "# Define the train, validation, and test data directories\n",
    "train_dir = 'OCT2017_/train'\n",
    "val_dir = 'OCT2017_/val'\n",
    "test_dir = 'OCT2017_/test'\n",
    "\n",
    "# Use the ResNet152V2 model as the base model\n",
    "base_model = ResNet152V2(weights='imagenet', include_top=False, input_shape=(img_height, img_width, 3))\n",
    "\n",
    "# Freeze the layers in the base model\n",
    "for layer in base_model.layers:\n",
    "    layer.trainable = False\n"
   ]
  },
  {
   "cell_type": "code",
   "execution_count": 3,
   "id": "845d715a",
   "metadata": {},
   "outputs": [
    {
     "name": "stderr",
     "output_type": "stream",
     "text": [
      "WARNING:absl:`lr` is deprecated, please use `learning_rate` instead, or use the legacy optimizer, e.g.,tf.keras.optimizers.legacy.Adam.\n"
     ]
    }
   ],
   "source": [
    "# Add a custom output layer for the four classes\n",
    "x = base_model.output\n",
    "x = Flatten()(x)\n",
    "x = Dense(1024, activation='relu')(x)\n",
    "x = Dense(512, activation='relu')(x)\n",
    "x = Dense(4, activation='softmax')(x)\n",
    "\n",
    "# Create the final model\n",
    "model = Model(inputs=base_model.input, outputs=x)\n",
    "\n",
    "# Compile the model with Adam optimizer and categorical crossentropy loss\n",
    "model.compile(optimizer=Adam(lr=0.0001), loss='categorical_crossentropy', metrics=['accuracy'])"
   ]
  },
  {
   "cell_type": "code",
   "execution_count": 4,
   "id": "a7d9c300",
   "metadata": {},
   "outputs": [],
   "source": [
    "# Define the data augmentation for the training set\n",
    "train_datagen = ImageDataGenerator(\n",
    "    preprocessing_function=preprocess_input,\n",
    "    rotation_range=20,\n",
    "    width_shift_range=0.2,\n",
    "    height_shift_range=0.2,\n",
    "    zoom_range=0.2,\n",
    "    horizontal_flip=True,\n",
    "    vertical_flip=True\n",
    ")\n",
    "\n",
    "# Define the validation and test data generators\n",
    "val_datagen = ImageDataGenerator(preprocessing_function=preprocess_input)\n",
    "test_datagen = ImageDataGenerator(preprocessing_function=preprocess_input)"
   ]
  },
  {
   "cell_type": "code",
   "execution_count": 5,
   "id": "ddb7cb33",
   "metadata": {},
   "outputs": [
    {
     "name": "stdout",
     "output_type": "stream",
     "text": [
      "Found 83484 images belonging to 4 classes.\n",
      "Found 32 images belonging to 4 classes.\n",
      "Found 968 images belonging to 4 classes.\n"
     ]
    }
   ],
   "source": [
    "\n",
    "# Create the generators for the training, validation, and test sets\n",
    "train_generator = train_datagen.flow_from_directory(\n",
    "    train_dir,\n",
    "    target_size=(img_height, img_width),\n",
    "    batch_size=batch_size,\n",
    "    class_mode='categorical',\n",
    "    shuffle=True\n",
    ")\n",
    "\n",
    "val_generator = val_datagen.flow_from_directory(\n",
    "    val_dir,\n",
    "    target_size=(img_height, img_width),\n",
    "    batch_size=batch_size,\n",
    "    class_mode='categorical',\n",
    "    shuffle=False\n",
    ")\n",
    "\n",
    "test_generator = test_datagen.flow_from_directory(\n",
    "    test_dir,\n",
    "    target_size=(img_height, img_width),\n",
    "    batch_size=batch_size,\n",
    "    class_mode='categorical',\n",
    "    shuffle=False\n",
    ")"
   ]
  },
  {
   "cell_type": "code",
   "execution_count": 6,
   "id": "d4f2f1dc",
   "metadata": {},
   "outputs": [
    {
     "name": "stdout",
     "output_type": "stream",
     "text": [
      "Epoch 1/10\n",
      "5217/5217 [==============================] - 13234s 3s/step - loss: 0.7841 - accuracy: 0.7621 - val_loss: 0.3283 - val_accuracy: 0.9062\n",
      "Epoch 2/10\n",
      "5217/5217 [==============================] - 13221s 3s/step - loss: 0.5207 - accuracy: 0.8104 - val_loss: 0.2591 - val_accuracy: 0.8750\n",
      "Epoch 3/10\n",
      "5217/5217 [==============================] - 13256s 3s/step - loss: 0.4876 - accuracy: 0.8235 - val_loss: 0.3822 - val_accuracy: 0.8750\n",
      "Epoch 4/10\n",
      "5217/5217 [==============================] - 13267s 3s/step - loss: 0.4733 - accuracy: 0.8300 - val_loss: 0.2252 - val_accuracy: 0.9062\n",
      "Epoch 5/10\n",
      "5217/5217 [==============================] - 13264s 3s/step - loss: 0.4581 - accuracy: 0.8345 - val_loss: 0.2017 - val_accuracy: 0.9062\n",
      "Epoch 6/10\n",
      "5217/5217 [==============================] - 13250s 3s/step - loss: 0.4538 - accuracy: 0.8384 - val_loss: 0.2225 - val_accuracy: 0.9375\n",
      "Epoch 7/10\n",
      "5217/5217 [==============================] - 15216s 3s/step - loss: 0.4423 - accuracy: 0.8409 - val_loss: 0.3457 - val_accuracy: 0.8750\n",
      "Epoch 8/10\n",
      "5217/5217 [==============================] - 21918s 4s/step - loss: 0.4395 - accuracy: 0.8422 - val_loss: 0.3549 - val_accuracy: 0.8750\n",
      "Epoch 9/10\n",
      "5217/5217 [==============================] - 21957s 4s/step - loss: 0.4317 - accuracy: 0.8451 - val_loss: 0.2869 - val_accuracy: 0.9062\n",
      "Epoch 10/10\n",
      "5217/5217 [==============================] - 21962s 4s/step - loss: 0.4311 - accuracy: 0.8455 - val_loss: 0.2608 - val_accuracy: 0.8750\n"
     ]
    }
   ],
   "source": [
    "# Train the model on the training set, using the validation set for validation\n",
    "epochs = 10\n",
    "history = model.fit(\n",
    "    train_generator,\n",
    "    steps_per_epoch=train_generator.n // batch_size,\n",
    "    epochs=epochs,\n",
    "    validation_data=val_generator,\n",
    "    validation_steps=val_generator.n // batch_size\n",
    ")"
   ]
  },
  {
   "cell_type": "code",
   "execution_count": 7,
   "id": "7073d187",
   "metadata": {},
   "outputs": [
    {
     "name": "stdout",
     "output_type": "stream",
     "text": [
      "61/61 [==============================] - 192s 3s/step - loss: 0.2286 - accuracy: 0.9143\n",
      "Test accuracy: 0.91425621509552\n"
     ]
    }
   ],
   "source": [
    "# Evaluate the model on the test set\n",
    "test_loss, test_acc = model.evaluate(test_generator)\n",
    "print('Test accuracy:', test_acc)\n"
   ]
  }
 ],
 "metadata": {
  "kernelspec": {
   "display_name": "Python 3 (ipykernel)",
   "language": "python",
   "name": "python3"
  },
  "language_info": {
   "codemirror_mode": {
    "name": "ipython",
    "version": 3
   },
   "file_extension": ".py",
   "mimetype": "text/x-python",
   "name": "python",
   "nbconvert_exporter": "python",
   "pygments_lexer": "ipython3",
   "version": "3.9.7"
  }
 },
 "nbformat": 4,
 "nbformat_minor": 5
}
