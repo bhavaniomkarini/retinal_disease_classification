{
 "cells": [
  {
   "cell_type": "code",
   "execution_count": 1,
   "id": "60a34883",
   "metadata": {},
   "outputs": [],
   "source": [
    "import numpy as np\n",
    "import pandas as pd\n",
    "import tensorflow as tf\n",
    "from tensorflow.keras.layers import Dense, GlobalAveragePooling2D\n",
    "from tensorflow.keras.applications.resnet50 import ResNet50, preprocess_input\n",
    "from tensorflow.keras.preprocessing.image import ImageDataGenerator\n"
   ]
  },
  {
   "cell_type": "code",
   "execution_count": 2,
   "id": "125ff7c9",
   "metadata": {},
   "outputs": [
    {
     "name": "stdout",
     "output_type": "stream",
     "text": [
      "Found 83484 images belonging to 4 classes.\n",
      "Found 32 images belonging to 4 classes.\n",
      "Found 968 images belonging to 4 classes.\n"
     ]
    }
   ],
   "source": [
    "train_datagen = ImageDataGenerator(preprocessing_function=preprocess_input,\n",
    "                                   rotation_range=20,\n",
    "                                   width_shift_range=0.2,\n",
    "                                   height_shift_range=0.2,\n",
    "                                   shear_range=0.2,\n",
    "                                   zoom_range=0.2,\n",
    "                                   horizontal_flip=True)\n",
    "\n",
    "val_datagen = ImageDataGenerator(preprocessing_function=preprocess_input)\n",
    "\n",
    "test_datagen = ImageDataGenerator(preprocessing_function=preprocess_input)\n",
    "\n",
    "train_generator = train_datagen.flow_from_directory('OCT2017_\\\\train',\n",
    "                                                    target_size=(224, 224),\n",
    "                                                    batch_size=32,\n",
    "                                                    class_mode='categorical')\n",
    "\n",
    "val_generator = val_datagen.flow_from_directory('OCT2017_\\\\val',\n",
    "                                                target_size=(224, 224),\n",
    "                                                batch_size=32,\n",
    "                                                class_mode='categorical')\n",
    "\n",
    "test_generator = test_datagen.flow_from_directory('OCT2017_\\\\test',\n",
    "                                                  target_size=(224, 224),\n",
    "                                                  batch_size=1,\n",
    "                                                  class_mode='categorical',\n",
    "                                                  shuffle=False)\n"
   ]
  },
  {
   "cell_type": "code",
   "execution_count": 3,
   "id": "e323e10d",
   "metadata": {},
   "outputs": [],
   "source": [
    "base_model = ResNet50(weights='imagenet', include_top=False)\n",
    "\n",
    "x = base_model.output\n",
    "x = GlobalAveragePooling2D()(x)\n",
    "x = Dense(1024, activation='relu')(x)\n",
    "predictions = Dense(4, activation='softmax')(x)\n",
    "\n",
    "model = tf.keras.Model(inputs=base_model.input, outputs=predictions)\n",
    "\n",
    "for layer in base_model.layers:\n",
    "    layer.trainable = False\n",
    "\n",
    "model.compile(optimizer='adam', loss='categorical_crossentropy', metrics=['accuracy'])\n"
   ]
  },
  {
   "cell_type": "code",
   "execution_count": 4,
   "id": "f6b9d656",
   "metadata": {},
   "outputs": [
    {
     "name": "stdout",
     "output_type": "stream",
     "text": [
      "Epoch 1/10\n",
      "2609/2609 [==============================] - 4290s 2s/step - loss: 0.4809 - accuracy: 0.8278 - val_loss: 0.5934 - val_accuracy: 0.7188\n",
      "Epoch 2/10\n",
      "2609/2609 [==============================] - 4276s 2s/step - loss: 0.3902 - accuracy: 0.8570 - val_loss: 0.5739 - val_accuracy: 0.6875\n",
      "Epoch 3/10\n",
      "2609/2609 [==============================] - 4278s 2s/step - loss: 0.3686 - accuracy: 0.8658 - val_loss: 0.3108 - val_accuracy: 0.8125\n",
      "Epoch 4/10\n",
      "2609/2609 [==============================] - 4275s 2s/step - loss: 0.3504 - accuracy: 0.8719 - val_loss: 0.2633 - val_accuracy: 0.9062\n",
      "Epoch 5/10\n",
      "2609/2609 [==============================] - 4281s 2s/step - loss: 0.3428 - accuracy: 0.8759 - val_loss: 0.2891 - val_accuracy: 0.9062\n",
      "Epoch 6/10\n",
      "2609/2609 [==============================] - 4283s 2s/step - loss: 0.3353 - accuracy: 0.8786 - val_loss: 0.2966 - val_accuracy: 0.9062\n",
      "Epoch 7/10\n",
      "2609/2609 [==============================] - 4294s 2s/step - loss: 0.3293 - accuracy: 0.8820 - val_loss: 0.3702 - val_accuracy: 0.8750\n",
      "Epoch 8/10\n",
      "2609/2609 [==============================] - 4295s 2s/step - loss: 0.3229 - accuracy: 0.8827 - val_loss: 0.3040 - val_accuracy: 0.8125\n",
      "Epoch 9/10\n",
      "2609/2609 [==============================] - 4296s 2s/step - loss: 0.3211 - accuracy: 0.8835 - val_loss: 0.2789 - val_accuracy: 0.8750\n",
      "Epoch 10/10\n",
      "2609/2609 [==============================] - 4288s 2s/step - loss: 0.3165 - accuracy: 0.8845 - val_loss: 0.1892 - val_accuracy: 0.9062\n"
     ]
    },
    {
     "data": {
      "text/plain": [
       "<keras.callbacks.History at 0x1f0e3e04d30>"
      ]
     },
     "execution_count": 4,
     "metadata": {},
     "output_type": "execute_result"
    }
   ],
   "source": [
    "model.fit(train_generator, epochs=10, validation_data=val_generator)\n"
   ]
  },
  {
   "cell_type": "code",
   "execution_count": 5,
   "id": "2f237a33",
   "metadata": {},
   "outputs": [
    {
     "name": "stdout",
     "output_type": "stream",
     "text": [
      "968/968 [==============================] - 87s 89ms/step - loss: 0.2499 - accuracy: 0.8853\n"
     ]
    },
    {
     "data": {
      "text/plain": [
       "[0.24992519617080688, 0.8853305578231812]"
      ]
     },
     "execution_count": 5,
     "metadata": {},
     "output_type": "execute_result"
    }
   ],
   "source": [
    "model.evaluate(test_generator)\n"
   ]
  }
 ],
 "metadata": {
  "kernelspec": {
   "display_name": "Python 3 (ipykernel)",
   "language": "python",
   "name": "python3"
  },
  "language_info": {
   "codemirror_mode": {
    "name": "ipython",
    "version": 3
   },
   "file_extension": ".py",
   "mimetype": "text/x-python",
   "name": "python",
   "nbconvert_exporter": "python",
   "pygments_lexer": "ipython3",
   "version": "3.9.7"
  }
 },
 "nbformat": 4,
 "nbformat_minor": 5
}
