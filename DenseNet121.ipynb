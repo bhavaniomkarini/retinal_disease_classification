{
 "cells": [
  {
   "cell_type": "code",
   "execution_count": 1,
   "id": "d4713476",
   "metadata": {},
   "outputs": [],
   "source": [
    "# Import required libraries\n",
    "import numpy as np\n",
    "import pandas as pd\n",
    "import matplotlib.pyplot as plt\n",
    "import seaborn as sns\n",
    "\n",
    "import keras\n",
    "from keras.preprocessing.image import ImageDataGenerator\n",
    "from keras.models import Sequential\n",
    "from keras.layers import Dense, Dropout, Flatten, BatchNormalization, Activation\n",
    "from keras.layers import Conv2D, MaxPooling2D, AveragePooling2D\n",
    "from keras.optimizers import Adam\n",
    "from keras.callbacks import ReduceLROnPlateau\n",
    "from keras.applications import DenseNet121\n",
    "\n",
    "# Load and preprocess data\n"
   ]
  },
  {
   "cell_type": "code",
   "execution_count": 2,
   "id": "808d846d",
   "metadata": {},
   "outputs": [
    {
     "name": "stdout",
     "output_type": "stream",
     "text": [
      "Found 83484 images belonging to 4 classes.\n",
      "Found 968 images belonging to 4 classes.\n",
      "Found 32 images belonging to 4 classes.\n"
     ]
    }
   ],
   "source": [
    "train_dir = 'OCT2017_/train'\n",
    "test_dir = 'OCT2017_/test'\n",
    "val_dir='OCT2017_/val'\n",
    "\n",
    "train_datagen = ImageDataGenerator(rescale=1./255,\n",
    "                                   rotation_range=20,\n",
    "                                   width_shift_range=0.2,\n",
    "                                   height_shift_range=0.2,\n",
    "                                   shear_range=0.2,\n",
    "                                   zoom_range=0.2,\n",
    "                                   horizontal_flip=True,\n",
    "                                   fill_mode='nearest')\n",
    "\n",
    "test_datagen = ImageDataGenerator(rescale=1./255)\n",
    "val_datagen = ImageDataGenerator(rescale=1./255)\n",
    "\n",
    "train_data = train_datagen.flow_from_directory(train_dir,\n",
    "                                               target_size=(224, 224),\n",
    "                                               batch_size=32,\n",
    "                                               class_mode='categorical')\n",
    "\n",
    "test_data = test_datagen.flow_from_directory(test_dir,\n",
    "                                             target_size=(224, 224),\n",
    "                                             batch_size=32,\n",
    "                                             class_mode='categorical')\n",
    "val_data = val_datagen.flow_from_directory(val_dir,\n",
    "                                             target_size=(224, 224),\n",
    "                                             batch_size=32,\n",
    "                                             class_mode='categorical')\n",
    "# Build and compile the model\n"
   ]
  },
  {
   "cell_type": "code",
   "execution_count": 3,
   "id": "de230ca3",
   "metadata": {},
   "outputs": [
    {
     "name": "stderr",
     "output_type": "stream",
     "text": [
      "C:\\Users\\DSL-187\\AppData\\Roaming\\Python\\Python38\\site-packages\\keras\\optimizers\\optimizer_v2\\adam.py:117: UserWarning: The `lr` argument is deprecated, use `learning_rate` instead.\n",
      "  super().__init__(name, **kwargs)\n"
     ]
    }
   ],
   "source": [
    "model = Sequential()\n",
    "\n",
    "densenet = DenseNet121(include_top=False, input_shape=(224, 224, 3))\n",
    "\n",
    "model.add(densenet)\n",
    "model.add(Flatten())\n",
    "model.add(Dense(256))\n",
    "model.add(BatchNormalization())\n",
    "model.add(Activation('relu'))\n",
    "model.add(Dropout(0.5))\n",
    "model.add(Dense(4, activation='softmax'))\n",
    "\n",
    "model.compile(optimizer=Adam(lr=0.001),\n",
    "              loss='categorical_crossentropy',\n",
    "              metrics=['accuracy'])\n",
    "\n",
    "# Train the model\n",
    "reduce_lr = ReduceLROnPlateau(monitor='val_loss', factor=0.2, patience=3, min_lr=0.00001)\n",
    "\n"
   ]
  },
  {
   "cell_type": "code",
   "execution_count": 4,
   "id": "82747257",
   "metadata": {},
   "outputs": [
    {
     "name": "stdout",
     "output_type": "stream",
     "text": [
      "Epoch 1/20\n",
      "2608/2608 [==============================] - 58761s 23s/step - loss: 0.2768 - accuracy: 0.9099 - val_loss: 0.0175 - val_accuracy: 1.0000 - lr: 0.0010\n",
      "Epoch 2/20\n",
      "2608/2608 [==============================] - 56124s 22s/step - loss: 0.2028 - accuracy: 0.9333 - val_loss: 0.0306 - val_accuracy: 1.0000 - lr: 0.0010\n",
      "Epoch 3/20\n",
      "2608/2608 [==============================] - 39847s 15s/step - loss: 0.1814 - accuracy: 0.9398 - val_loss: 0.0274 - val_accuracy: 1.0000 - lr: 0.0010\n",
      "Epoch 4/20\n",
      "2608/2608 [==============================] - 39865s 15s/step - loss: 0.1680 - accuracy: 0.9444 - val_loss: 0.0590 - val_accuracy: 0.9688 - lr: 0.0010\n",
      "Epoch 5/20\n",
      "2608/2608 [==============================] - 39879s 15s/step - loss: 0.1201 - accuracy: 0.9595 - val_loss: 0.0077 - val_accuracy: 1.0000 - lr: 2.0000e-04\n",
      "Epoch 6/20\n",
      "2608/2608 [==============================] - 38376s 15s/step - loss: 0.1087 - accuracy: 0.9630 - val_loss: 0.0039 - val_accuracy: 1.0000 - lr: 2.0000e-04\n",
      "Epoch 7/20\n",
      "2608/2608 [==============================] - 22667s 9s/step - loss: 0.1026 - accuracy: 0.9658 - val_loss: 0.0045 - val_accuracy: 1.0000 - lr: 2.0000e-04\n",
      "Epoch 8/20\n",
      "2608/2608 [==============================] - 22676s 9s/step - loss: 0.0981 - accuracy: 0.9666 - val_loss: 0.0054 - val_accuracy: 1.0000 - lr: 2.0000e-04\n",
      "Epoch 9/20\n",
      "2608/2608 [==============================] - 22672s 9s/step - loss: 0.0942 - accuracy: 0.9674 - val_loss: 0.0052 - val_accuracy: 1.0000 - lr: 2.0000e-04\n",
      "Epoch 10/20\n",
      "2608/2608 [==============================] - 22709s 9s/step - loss: 0.0832 - accuracy: 0.9717 - val_loss: 0.0045 - val_accuracy: 1.0000 - lr: 4.0000e-05\n",
      "Epoch 11/20\n",
      "2608/2608 [==============================] - 22752s 9s/step - loss: 0.0799 - accuracy: 0.9723 - val_loss: 0.0049 - val_accuracy: 1.0000 - lr: 4.0000e-05\n",
      "Epoch 12/20\n",
      "2608/2608 [==============================] - 22773s 9s/step - loss: 0.0784 - accuracy: 0.9729 - val_loss: 0.0036 - val_accuracy: 1.0000 - lr: 4.0000e-05\n",
      "Epoch 13/20\n",
      "2608/2608 [==============================] - 22737s 9s/step - loss: 0.0756 - accuracy: 0.9737 - val_loss: 0.0054 - val_accuracy: 1.0000 - lr: 4.0000e-05\n",
      "Epoch 14/20\n",
      "2608/2608 [==============================] - 55339s 21s/step - loss: 0.0742 - accuracy: 0.9743 - val_loss: 0.0050 - val_accuracy: 1.0000 - lr: 4.0000e-05\n",
      "Epoch 15/20\n",
      "2608/2608 [==============================] - 65979s 25s/step - loss: 0.0725 - accuracy: 0.9751 - val_loss: 0.0043 - val_accuracy: 1.0000 - lr: 4.0000e-05\n",
      "Epoch 16/20\n",
      "2608/2608 [==============================] - 37428s 14s/step - loss: 0.0711 - accuracy: 0.9752 - val_loss: 0.0043 - val_accuracy: 1.0000 - lr: 1.0000e-05\n",
      "Epoch 17/20\n",
      "2608/2608 [==============================] - 37190s 14s/step - loss: 0.0692 - accuracy: 0.9757 - val_loss: 0.0040 - val_accuracy: 1.0000 - lr: 1.0000e-05\n",
      "Epoch 18/20\n",
      "2608/2608 [==============================] - 37224s 14s/step - loss: 0.0681 - accuracy: 0.9760 - val_loss: 0.0034 - val_accuracy: 1.0000 - lr: 1.0000e-05\n",
      "Epoch 19/20\n",
      "2608/2608 [==============================] - 42496s 16s/step - loss: 0.0677 - accuracy: 0.9762 - val_loss: 0.0034 - val_accuracy: 1.0000 - lr: 1.0000e-05\n",
      "Epoch 20/20\n",
      "2608/2608 [==============================] - 37574s 14s/step - loss: 0.0681 - accuracy: 0.9761 - val_loss: 0.0041 - val_accuracy: 1.0000 - lr: 1.0000e-05\n"
     ]
    }
   ],
   "source": [
    "history = model.fit(train_data,\n",
    "                    steps_per_epoch=train_data.n//train_data.batch_size,\n",
    "                    epochs=20,\n",
    "                    validation_data=val_data,\n",
    "                    validation_steps=val_data.n//val_data.batch_size,\n",
    "                    callbacks=[reduce_lr])\n",
    "\n",
    "# Evaluate the model\n",
    "\n"
   ]
  },
  {
   "cell_type": "code",
   "execution_count": null,
   "id": "81cbc6b0",
   "metadata": {},
   "outputs": [],
   "source": [
    "test_loss, test_acc = model.evaluate(test_data)\n",
    "\n",
    "print('Test loss:', test_loss)\n",
    "print('Test accuracy:', test_acc)\n",
    "\n",
    "# Predict on new data\n",
    "test_preds = model.predict(test_data)\n",
    "\n",
    "# Convert predictions to labels\n",
    "test_labels = test_data.classes\n",
    "pred_labels = np.argmax(test_preds, axis=1)\n",
    "\n",
    "# Generate confusion matrix\n",
    "cm = confusion_matrix(test_labels, pred_labels)\n",
    "cm_df = pd.DataFrame(cm, index=['CNV', 'DME', 'Drusen', 'Normal'], columns=['CNV', 'DME', 'Drusen', 'Normal'])\n",
    "sns.heatmap(cm_df, annot=True)\n",
    "plt.show()"
   ]
  }
 ],
 "metadata": {
  "kernelspec": {
   "display_name": "Python 3 (ipykernel)",
   "language": "python",
   "name": "python3"
  },
  "language_info": {
   "codemirror_mode": {
    "name": "ipython",
    "version": 3
   },
   "file_extension": ".py",
   "mimetype": "text/x-python",
   "name": "python",
   "nbconvert_exporter": "python",
   "pygments_lexer": "ipython3",
   "version": "3.9.7"
  }
 },
 "nbformat": 4,
 "nbformat_minor": 5
}
